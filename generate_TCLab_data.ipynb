{
 "cells": [
  {
   "cell_type": "code",
   "execution_count": 1,
   "metadata": {
    "ExecuteTime": {
     "end_time": "2020-09-29T13:56:45.828612Z",
     "start_time": "2020-09-29T13:56:41.867737Z"
    }
   },
   "outputs": [],
   "source": [
    "# ! pip install tclab\n",
    "import tclab\n",
    "import pandas as pd\n",
    "import numpy as np\n",
    "import matplotlib.pyplot as plt\n",
    "import time\n",
    "import random\n",
    "import winsound"
   ]
  },
  {
   "cell_type": "markdown",
   "metadata": {},
   "source": [
    "# Training data\n",
    "Generate 60 minutes of clean data to train a classifier to detect when the TCLab heater 1 (Q1) is on or off"
   ]
  },
  {
   "cell_type": "code",
   "execution_count": 2,
   "metadata": {
    "ExecuteTime": {
     "end_time": "2020-09-29T13:56:46.154892Z",
     "start_time": "2020-09-29T13:56:45.832365Z"
    }
   },
   "outputs": [
    {
     "data": {
      "image/png": "[encoded data removed]",
      "text/plain": [
       "<Figure size 432x288 with 1 Axes>"
      ]
     },
     "metadata": {
      "needs_background": "light"
     },
     "output_type": "display_data"
    }
   ],
   "source": [
    "# Run time in minutes\n",
    "run_time = 60.0\n",
    "\n",
    "# 1 cycle per second\n",
    "cycles = int(60.0*run_time)\n",
    "\n",
    "# Time array\n",
    "tm = np.array(range(cycles)).astype(float)\n",
    "\n",
    "### Generate on/off inputs for heater 1 (Q1) ###\n",
    "Q1 = np.zeros(cycles)\n",
    "\n",
    "end = 15 # leave 1st 15 seconds of Q1 as 0\n",
    "on = False\n",
    "while end <= cycles:\n",
    "    start = end\n",
    "    end += random.randint(150,300) # keep new Q1 value for varied time\n",
    "    on = not on\n",
    "    if on:\n",
    "        Q1[start:end] = 1\n",
    "    else:\n",
    "        Q1[start:end] = 0\n",
    "        \n",
    "plt.plot(Q1);"
   ]
  },
  {
   "cell_type": "code",
   "execution_count": 3,
   "metadata": {
    "ExecuteTime": {
     "end_time": "2020-09-29T13:56:46.346512Z",
     "start_time": "2020-09-29T13:56:46.157968Z"
    },
    "scrolled": true
   },
   "outputs": [
    {
     "name": "stdout",
     "output_type": "stream",
     "text": [
      "TCLab version 0.4.9\n",
      "--- Serial Ports ---\n"
     ]
    },
    {
     "ename": "RuntimeError",
     "evalue": "No Arduino device found.",
     "output_type": "error",
     "traceback": [
      "\u001b[1;31m-------------------------------------------------------------------\u001b[0m",
      "\u001b[1;31mRuntimeError\u001b[0m                      Traceback (most recent call last)",
      "\u001b[1;32m<ipython-input-3-e9665e8c3699>\u001b[0m in \u001b[0;36m<module>\u001b[1;34m\u001b[0m\n\u001b[0;32m      1\u001b[0m \u001b[1;31m# Connect to Arduino and generate anomaly-free data\u001b[0m\u001b[1;33m\u001b[0m\u001b[1;33m\u001b[0m\u001b[1;33m\u001b[0m\u001b[0m\n\u001b[1;32m----> 2\u001b[1;33m \u001b[1;32mwith\u001b[0m \u001b[0mtclab\u001b[0m\u001b[1;33m.\u001b[0m\u001b[0mTCLab\u001b[0m\u001b[1;33m(\u001b[0m\u001b[1;33m)\u001b[0m \u001b[1;32mas\u001b[0m \u001b[0mlab\u001b[0m\u001b[1;33m:\u001b[0m\u001b[1;33m\u001b[0m\u001b[1;33m\u001b[0m\u001b[0m\n\u001b[0m\u001b[0;32m      3\u001b[0m \u001b[1;33m\u001b[0m\u001b[0m\n\u001b[0;32m      4\u001b[0m     \u001b[1;31m# Print current T1, T2\u001b[0m\u001b[1;33m\u001b[0m\u001b[1;33m\u001b[0m\u001b[1;33m\u001b[0m\u001b[0m\n\u001b[0;32m      5\u001b[0m     \u001b[0mprint\u001b[0m\u001b[1;33m(\u001b[0m\u001b[1;34m'Temperature 1: {0:0.2f} °C'\u001b[0m\u001b[1;33m.\u001b[0m\u001b[0mformat\u001b[0m\u001b[1;33m(\u001b[0m\u001b[0mlab\u001b[0m\u001b[1;33m.\u001b[0m\u001b[0mT1\u001b[0m\u001b[1;33m)\u001b[0m\u001b[1;33m)\u001b[0m\u001b[1;33m\u001b[0m\u001b[1;33m\u001b[0m\u001b[0m\n",
      "\u001b[1;32m~\\anaconda3\\lib\\site-packages\\tclab\\tclab.py\u001b[0m in \u001b[0;36m__init__\u001b[1;34m(self, port, debug)\u001b[0m\n\u001b[0;32m     59\u001b[0m         \u001b[0mself\u001b[0m\u001b[1;33m.\u001b[0m\u001b[0mport\u001b[0m\u001b[1;33m,\u001b[0m \u001b[0mself\u001b[0m\u001b[1;33m.\u001b[0m\u001b[0marduino\u001b[0m \u001b[1;33m=\u001b[0m \u001b[0mfind_arduino\u001b[0m\u001b[1;33m(\u001b[0m\u001b[0mport\u001b[0m\u001b[1;33m)\u001b[0m\u001b[1;33m\u001b[0m\u001b[1;33m\u001b[0m\u001b[0m\n\u001b[0;32m     60\u001b[0m         \u001b[1;32mif\u001b[0m \u001b[0mself\u001b[0m\u001b[1;33m.\u001b[0m\u001b[0mport\u001b[0m \u001b[1;32mis\u001b[0m \u001b[1;32mNone\u001b[0m\u001b[1;33m:\u001b[0m\u001b[1;33m\u001b[0m\u001b[1;33m\u001b[0m\u001b[0m\n\u001b[1;32m---> 61\u001b[1;33m             \u001b[1;32mraise\u001b[0m \u001b[0mRuntimeError\u001b[0m\u001b[1;33m(\u001b[0m\u001b[1;34m'No Arduino device found.'\u001b[0m\u001b[1;33m)\u001b[0m\u001b[1;33m\u001b[0m\u001b[1;33m\u001b[0m\u001b[0m\n\u001b[0m\u001b[0;32m     62\u001b[0m \u001b[1;33m\u001b[0m\u001b[0m\n\u001b[0;32m     63\u001b[0m         \u001b[1;32mtry\u001b[0m\u001b[1;33m:\u001b[0m\u001b[1;33m\u001b[0m\u001b[1;33m\u001b[0m\u001b[0m\n",
      "\u001b[1;31mRuntimeError\u001b[0m: No Arduino device found."
     ]
    }
   ],
   "source": [
    "# Connect to Arduino and generate anomaly-free data\n",
    "with tclab.TCLab() as lab: \n",
    "\n",
    "    # Print current T1, T2\n",
    "    print('Temperature 1: {0:0.2f} °C'.format(lab.T1))\n",
    "    print('Temperature 2: {0:0.2f} °C'.format(lab.T2))\n",
    "\n",
    "    # Temperature (C)\n",
    "    T1 = np.ones(cycles) * lab.T1 # measured T (degC)\n",
    "\n",
    "    # Run TCLab to generate training data\n",
    "    start_time = time.time()\n",
    "\n",
    "    for i in range(cycles):\n",
    "        # Record time\n",
    "        t = time.time()\n",
    "        tm[i] = t - start_time\n",
    "\n",
    "        # Turn on heater to 70% when Q1 is 1\n",
    "        lab.Q1(Q1[i] * 70)\n",
    "\n",
    "        # Record T1 (degC)\n",
    "        T1[i] = lab.T1\n",
    "\n",
    "        # Delay 1 second\n",
    "        while time.time() < t + 1.0:\n",
    "            pass"
   ]
  },
  {
   "cell_type": "code",
   "execution_count": null,
   "metadata": {
    "ExecuteTime": {
     "end_time": "2020-09-29T13:56:46.349929Z",
     "start_time": "2020-09-29T13:56:41.883Z"
    }
   },
   "outputs": [],
   "source": [
    "# Plot and save results to dataframe\n",
    "plt.plot(Q1*100)\n",
    "plt.plot(T1)\n",
    "\n",
    "df = pd.DataFrame()\n",
    "df['t'] = tm\n",
    "df['T1'] = T1\n",
    "df['Q1'] = Q1\n",
    "df.to_csv('train.csv',index=False)"
   ]
  },
  {
   "cell_type": "markdown",
   "metadata": {},
   "source": [
    "# Test data with anomalies\n",
    "Generate 20 minutes of TCLab data that includes an anomalous event (fan blowing over the heater)"
   ]
  },
  {
   "cell_type": "code",
   "execution_count": 22,
   "metadata": {
    "ExecuteTime": {
     "end_time": "2020-09-29T16:57:31.371192Z",
     "start_time": "2020-09-29T16:57:31.252161Z"
    },
    "scrolled": false
   },
   "outputs": [
    {
     "data": {
      "image/png": "[encoded data removed]",
      "text/plain": [
       "<Figure size 432x288 with 1 Axes>"
      ]
     },
     "metadata": {
      "needs_background": "light"
     },
     "output_type": "display_data"
    }
   ],
   "source": [
    "# Run time in minutes \n",
    "run_time = 20.0\n",
    "\n",
    "# 1 cycle per second\n",
    "cycles = int(60.0*run_time)\n",
    "\n",
    "# Time array\n",
    "tm = np.array(range(cycles)).astype(float)\n",
    "\n",
    "### Generate on/off inputs for heater 1 (Q1) ###\n",
    "Q1 = np.zeros(cycles)\n",
    "\n",
    "end = 15 # leave 1st 15 seconds of Q1 as 0\n",
    "on = False\n",
    "while end <= cycles:\n",
    "    start = end\n",
    "    end += random.randint(150,300) # keep new Q1 value for varied time\n",
    "    on = not on\n",
    "    if on:\n",
    "        Q1[start:end] = 1\n",
    "    else:\n",
    "        Q1[start:end] = 0\n",
    "\n",
    "# Generate time for fan to turn on\n",
    "fan = np.zeros(cycles)\n",
    "fan_on = 300\n",
    "fan_off = 360\n",
    "fan[fan_on:fan_off] = 1\n",
    "Q1[fan_on:fan_off] = 1\n",
    "\n",
    "# Plot\n",
    "plt.plot(Q1)\n",
    "plt.plot(fan);"
   ]
  },
  {
   "cell_type": "code",
   "execution_count": 23,
   "metadata": {
    "ExecuteTime": {
     "end_time": "2020-09-29T17:17:45.912935Z",
     "start_time": "2020-09-29T16:57:41.264895Z"
    },
    "scrolled": true
   },
   "outputs": [
    {
     "name": "stdout",
     "output_type": "stream",
     "text": [
      "TCLab version 0.4.9\n",
      "Arduino Leonardo connected on port COM3 at 115200 baud.\n",
      "TCLab Firmware Version 1.01.\n",
      "Temperature 1: 25.09 °C\n",
      "Temperature 2: 24.80 °C\n",
      "Prepare to turn on fan\n",
      "Turn on fan\n",
      "Turn off fan\n",
      "TCLab disconnected successfully.\n"
     ]
    }
   ],
   "source": [
    "# Connect to Arduino and generate anomalous data\n",
    "with tclab.TCLab() as lab: \n",
    "\n",
    "    # Print current T1, T2\n",
    "    print('Temperature 1: {0:0.2f} °C'.format(lab.T1))\n",
    "    print('Temperature 2: {0:0.2f} °C'.format(lab.T2))\n",
    "\n",
    "    # Temperature (C)\n",
    "    T1 = np.ones(cycles) * lab.T1 # measured T (degC)\n",
    "\n",
    "    # Run TCLab to generate training data\n",
    "    start_time = time.time()\n",
    "\n",
    "    for i in range(cycles):\n",
    "        # Record time\n",
    "        t = time.time()\n",
    "        tm[i] = t - start_time\n",
    "\n",
    "        # Turn on heater 1 to 70% when Q1 is 1\n",
    "        lab.Q1(Q1[i] * 70)\n",
    "        \n",
    "        # Record T1 (degC)\n",
    "        T1[i] = lab.T1\n",
    "        \n",
    "        # Turn on fan between specified time, with warning beeps\n",
    "        if i == fan_on - 10:\n",
    "            print('Prepare to turn on fan')\n",
    "            winsound.Beep(2500, 250)\n",
    "        if i == fan_on:\n",
    "            print('Turn on fan')\n",
    "            winsound.Beep(2500, 250)\n",
    "        if i == fan_off:\n",
    "            print('Turn off fan')\n",
    "            winsound.Beep(2500, 250)\n",
    "\n",
    "        # Delay 1 second\n",
    "        while time.time() < t + 1.0:\n",
    "            pass\n"
   ]
  },
  {
   "cell_type": "code",
   "execution_count": 26,
   "metadata": {
    "ExecuteTime": {
     "end_time": "2020-09-29T20:01:17.678365Z",
     "start_time": "2020-09-29T20:01:17.441917Z"
    }
   },
   "outputs": [
    {
     "data": {
      "text/plain": [
       "[<matplotlib.lines.Line2D at 0x2d26f7568c8>]"
      ]
     },
     "execution_count": 26,
     "metadata": {},
     "output_type": "execute_result"
    },
    {
     "data": {
      "image/png": "[encoded data removed]",
      "text/plain": [
       "<Figure size 432x288 with 1 Axes>"
      ]
     },
     "metadata": {
      "needs_background": "light"
     },
     "output_type": "display_data"
    }
   ],
   "source": [
    "# Plot and save data to dataframe\n",
    "df = pd.DataFrame()\n",
    "df['t'] = tm\n",
    "df['T1'] = T1\n",
    "df['Q1'] = Q1\n",
    "df['fan'] = fan\n",
    "df.to_csv('test.csv',index=False)\n",
    "df[['Q1','fan']].plot()\n",
    "plt.plot(df['T1']/50)"
   ]
  }
 ],
 "metadata": {
  "hide_input": false,
  "kernelspec": {
   "display_name": "Python 3",
   "language": "python",
   "name": "python3"
  },
  "language_info": {
   "codemirror_mode": {
    "name": "ipython",
    "version": 3
   },
   "file_extension": ".py",
   "mimetype": "text/x-python",
   "name": "python",
   "nbconvert_exporter": "python",
   "pygments_lexer": "ipython3",
   "version": "3.7.6"
  }
 },
 "nbformat": 4,
 "nbformat_minor": 4
}
